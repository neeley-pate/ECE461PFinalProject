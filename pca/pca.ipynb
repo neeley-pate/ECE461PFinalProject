{
 "cells": [
  {
   "attachments": {},
   "cell_type": "markdown",
   "metadata": {},
   "source": [
    "# Performing Principle Component Analysis"
   ]
  },
  {
   "attachments": {},
   "cell_type": "markdown",
   "metadata": {},
   "source": [
    "### Import data"
   ]
  },
  {
   "cell_type": "code",
   "execution_count": 127,
   "metadata": {},
   "outputs": [],
   "source": [
    "import pandas as pd\n",
    "import numpy as np\n",
    "import matplotlib.pyplot as plt\n",
    "from sklearn.decomposition import PCA\n",
    "from sklearn.preprocessing import StandardScaler\n",
    "from sklearn.model_selection import train_test_split"
   ]
  },
  {
   "cell_type": "code",
   "execution_count": 128,
   "metadata": {},
   "outputs": [],
   "source": [
    "dataset = pd.read_csv('../dataset/dataWithWeather/AUS_WITH_WEATHER_2022_NUMERIC.csv', index_col=0)\n"
   ]
  },
  {
   "cell_type": "code",
   "execution_count": 23,
   "metadata": {},
   "outputs": [
    {
     "name": "stdout",
     "output_type": "stream",
     "text": [
      "{'ice', '0', 'rain', 'freezingrain', 'rain,snow'}\n",
      "{'Snow, Rain, Overcast', 'Rain, Overcast', 'Clear', 'Rain, Partially cloudy', 'Ice, Overcast', 'Freezing Drizzle/Freezing Rain, Overcast', 'Partially cloudy', 'Overcast'}\n"
     ]
    }
   ],
   "source": [
    "p_type = set()\n",
    "cond = set()\n",
    "for idx, row in dataset.iterrows():\n",
    "    p_type.add(row['preciptype'])\n",
    "    cond.add(row['conditions'])\n",
    "\n",
    "print(p_type)\n",
    "print(cond)"
   ]
  },
  {
   "cell_type": "code",
   "execution_count": 109,
   "metadata": {},
   "outputs": [],
   "source": [
    "p_ice = list()\n",
    "p_rain = list()\n",
    "p_snow = list()\n",
    "p_fzrain = list()\n",
    "\n",
    "c_rain = list()\n",
    "c_snow = list()\n",
    "c_overcast = list()\n",
    "c_partlycloudy = list()\n",
    "c_ice = list()\n",
    "c_fzdrizrain = list()\n",
    "\n",
    "for idx, row in dataset.iterrows():\n",
    "    precp = row['preciptype']\n",
    "    precp_list = precp.split(',')\n",
    "    for i in range(len(precp_list)):\n",
    "        precp_list[i] = precp_list[i].strip()\n",
    "    if ('ice' in precp_list):\n",
    "        p_ice.append(1)\n",
    "    else:\n",
    "        p_ice.append(0)\n",
    "    if ('rain' in precp_list):\n",
    "        p_rain.append(1)\n",
    "    else:\n",
    "        p_rain.append(0)\n",
    "    if ('snow' in precp_list):\n",
    "        p_snow.append(1)\n",
    "    else:    \n",
    "        p_snow.append(0)\n",
    "    if ('freezingrain' in precp_list):\n",
    "        p_fzrain.append(1)\n",
    "    else:\n",
    "        p_fzrain.append(0)\n",
    "    \n",
    "    cond = row['conditions']\n",
    "    cond_list = cond.split(',')\n",
    "    for i in range(len(cond_list)):\n",
    "        cond_list[i] = cond_list[i].strip()\n",
    "    if ('Rain' in cond_list):\n",
    "        c_rain.append(1)\n",
    "    else:\n",
    "        c_rain.append(0)\n",
    "    if ('Snow' in cond_list):\n",
    "        c_snow.append(1)\n",
    "    else:\n",
    "        c_snow.append(0)\n",
    "    if ('Overcast' in cond_list):\n",
    "        c_overcast.append(1)\n",
    "    else:\n",
    "        c_overcast.append(0)\n",
    "    if ('Partially cloudy' in cond_list):\n",
    "        c_partlycloudy.append(1)\n",
    "    else:\n",
    "        c_partlycloudy.append(0)\n",
    "    if ('Ice' in cond_list):\n",
    "        c_ice.append(1)\n",
    "    else:\n",
    "        c_ice.append(0)\n",
    "    if ('Freezing Drizzle/Freezing Rain' in cond_list):\n",
    "        c_fzdrizrain.append(1)\n",
    "    else:\n",
    "        c_fzdrizrain.append(0)\n",
    "    \n",
    "cat_df = pd.DataFrame()\n",
    "cat_df['p_ice'] = p_ice\n",
    "cat_df['p_rain'] = p_rain\n",
    "cat_df['p_snow'] = p_snow\n",
    "cat_df['p_fzrain'] = p_fzrain\n",
    "\n",
    "cat_df['c_rain'] = c_rain\n",
    "cat_df['c_snow'] = c_snow\n",
    "cat_df['c_overcast'] = c_overcast\n",
    "cat_df['c_partlycloudy'] = c_partlycloudy\n",
    "cat_df['c_ice'] = c_ice\n",
    "cat_df['c_fzdrizrain'] = c_fzdrizrain\n",
    "\n",
    "\n"
   ]
  },
  {
   "cell_type": "code",
   "execution_count": 110,
   "metadata": {},
   "outputs": [],
   "source": [
    "concat_df = pd.concat([dataset, cat_df], axis=1)\n",
    "dataset = concat_df.drop(['preciptype', 'conditions'], axis=1)"
   ]
  },
  {
   "cell_type": "code",
   "execution_count": 111,
   "metadata": {},
   "outputs": [],
   "source": [
    "dataset.to_csv('categorical_data/AUS_WITH_WEATHER_2022_categorical.csv', sep=',', encoding='utf-8')"
   ]
  },
  {
   "cell_type": "code",
   "execution_count": 129,
   "metadata": {},
   "outputs": [],
   "source": [
    "cols_to_remove = ['Unnamed: 0', 'DEP_DELAY_GROUP', 'CRS_ARR_TIME', 'ARR_TIME', 'ARR_DELAY', 'ARR_DEL15', 'ARR_DELAY_GROUP', 'NAS_DELAY', 'SECURITY_DELAY','LATE_AIRCRAFT_DELAY', 'WEATHER_DELAY', 'CARRIER_DELAY']\n",
    "# cols_to_remove = ['DEP_DELAY_GROUP', 'CRS_ARR_TIME', 'ARR_TIME', 'ARR_DELAY', 'ARR_DEL15', 'ARR_DELAY_GROUP', 'NAS_DELAY', 'SECURITY_DELAY','LATE_AIRCRAFT_DELAY', 'WEATHER_DELAY', 'CARRIER_DELAY']\n",
    "dataset = dataset.drop(cols_to_remove, axis=1)\n",
    "dataset.to_csv('dropped_data/AUS_WITH_WEATHER_2022__NUMERIC_Dropped.csv', sep=',', encoding='utf-8')"
   ]
  },
  {
   "cell_type": "code",
   "execution_count": 130,
   "metadata": {},
   "outputs": [],
   "source": [
    "train, test = train_test_split(dataset, test_size=0.25, random_state=42)"
   ]
  },
  {
   "cell_type": "code",
   "execution_count": 131,
   "metadata": {},
   "outputs": [
    {
     "name": "stdout",
     "output_type": "stream",
     "text": [
      "Index(['MONTH', 'DAY_OF_MONTH', 'DAY_OF_WEEK', 'MKT_CARRIER_AIRLINE_ID',\n",
      "       'OP_CARRIER_FL_NUM', 'ORIGIN_AIRPORT_SEQ_ID', 'DEST_AIRPORT_SEQ_ID',\n",
      "       'CRS_DEP_TIME', 'DEP_TIME', 'DEP_DELAY', 'DEP_DEL15',\n",
      "       'CRS_ELAPSED_TIME', 'ACTUAL_ELAPSED_TIME', 'DISTANCE', 'DISTANCE_GROUP',\n",
      "       'temp', 'dew', 'humidity', 'precip', 'precipprob', 'windgust',\n",
      "       'windspeed', 'winddir', 'sealevelpressure', 'cloudcover', 'visibility',\n",
      "       'severerisk'],\n",
      "      dtype='object')\n"
     ]
    }
   ],
   "source": [
    "print(dataset.columns)"
   ]
  },
  {
   "cell_type": "code",
   "execution_count": 132,
   "metadata": {},
   "outputs": [],
   "source": [
    "train.to_csv('split_data/AUS_WITH_WEATHER_2022__NUMERIC_train.csv', sep=',', encoding='utf-8')\n",
    "test.to_csv('split_data/AUS_WITH_WEATHER_2022__NUMERIC_test.csv', sep=',', encoding='utf-8')"
   ]
  },
  {
   "cell_type": "code",
   "execution_count": 133,
   "metadata": {},
   "outputs": [],
   "source": [
    "train_label_reg = train['DEP_DELAY']\n",
    "train_label_class = train['DEP_DEL15']\n",
    "\n",
    "test_label_reg = test['DEP_DELAY']\n",
    "test_label_class = test['DEP_DEL15']\n",
    "\n",
    "train_data = train.drop('DEP_DELAY', axis=1)\n",
    "train_data = train.drop('DEP_DEL15', axis=1)\n",
    "test_data = test.drop('DEP_DELAY', axis=1)\n",
    "test_data = test.drop('DEP_DEL15', axis=1)"
   ]
  },
  {
   "cell_type": "code",
   "execution_count": 134,
   "metadata": {},
   "outputs": [],
   "source": [
    "scale = StandardScaler()\n",
    "scaled_data_train = scale.fit_transform(train_data)\n",
    "scaled_data_test = scale.transform(test_data)"
   ]
  },
  {
   "cell_type": "code",
   "execution_count": 135,
   "metadata": {},
   "outputs": [
    {
     "name": "stdout",
     "output_type": "stream",
     "text": [
      "<class 'numpy.ndarray'>\n"
     ]
    }
   ],
   "source": [
    "print(type(scaled_data_train))"
   ]
  },
  {
   "attachments": {},
   "cell_type": "markdown",
   "metadata": {},
   "source": [
    "### Perform PCA"
   ]
  },
  {
   "cell_type": "code",
   "execution_count": 136,
   "metadata": {},
   "outputs": [],
   "source": [
    "pca = PCA()\n",
    "X_train_pca = pca.fit_transform(scaled_data_train)\n",
    "X_test_pca = pca.transform(scaled_data_test)"
   ]
  },
  {
   "cell_type": "code",
   "execution_count": 137,
   "metadata": {},
   "outputs": [],
   "source": [
    "explained_variance = pca.explained_variance_ratio_"
   ]
  },
  {
   "cell_type": "code",
   "execution_count": 138,
   "metadata": {},
   "outputs": [
    {
     "name": "stdout",
     "output_type": "stream",
     "text": [
      "[1.65610063e-01 1.34125985e-01 1.07781507e-01 7.96378691e-02\n",
      " 6.79382434e-02 4.34999632e-02 4.19487907e-02 4.07272951e-02\n",
      " 3.94146343e-02 3.83060378e-02 3.69451013e-02 3.45112667e-02\n",
      " 3.11318345e-02 2.92273992e-02 2.65538462e-02 2.38479839e-02\n",
      " 2.10113011e-02 1.70977805e-02 9.93856292e-03 5.88976468e-03\n",
      " 2.24633717e-03 1.09098207e-03 7.92353193e-04 4.34602615e-04\n",
      " 2.90495803e-04 7.41897867e-34]\n"
     ]
    }
   ],
   "source": [
    "print(explained_variance)"
   ]
  },
  {
   "cell_type": "code",
   "execution_count": 140,
   "metadata": {},
   "outputs": [
    {
     "data": {
      "image/png": "[encoded data removed]",
      "text/plain": [
       "<Figure size 1000x600 with 1 Axes>"
      ]
     },
     "metadata": {},
     "output_type": "display_data"
    }
   ],
   "source": [
    "# plot the variance as a function of the number of principal components\n",
    "plt.figure(figsize=(10, 6))\n",
    "plt.bar(range(1, 27), explained_variance, alpha=0.5, align='center', label='individual explained variance')\n",
    "plt.ylabel('Explained variance ratio')\n",
    "plt.xlabel('Principal components')\n",
    "plt.legend(loc='best')\n",
    "plt.tight_layout()\n",
    "plt.savefig('explained_variance/AUS_WITH_WEATHER_2022_NUMERIC_pca_variance.png')\n",
    "plt.show()"
   ]
  },
  {
   "cell_type": "code",
   "execution_count": 100,
   "metadata": {},
   "outputs": [],
   "source": [
    "# X_train_pca_with_labels = np.column_stack((X_train_pca, train_label_reg, train_label_class))\n",
    "# X_test_pca_with_labels = np.column_stack((X_test_pca, test_label_reg, test_label_class))\n",
    "\n",
    "# pd.DataFrame(X_train_pca_with_labels).to_csv('pca_data/AUS_WITH_WEATHER_2022_Categorical_X_train_pca.csv', sep=',', encoding='utf-8')\n",
    "# pd.DataFrame(X_test_pca_with_labels).to_csv('pca_data/AUS_WITH_WEATHER_2022_Categorical_X_test_pca.csv', sep=',', encoding='utf-8')"
   ]
  },
  {
   "cell_type": "code",
   "execution_count": 141,
   "metadata": {},
   "outputs": [
    {
     "name": "stdout",
     "output_type": "stream",
     "text": [
      "58156     43.0\n",
      "71253     -6.0\n",
      "26101     -5.0\n",
      "36504     -5.0\n",
      "79040     -1.0\n",
      "         ...  \n",
      "6265      -1.0\n",
      "54886      4.0\n",
      "76820     -3.0\n",
      "860       -5.0\n",
      "15795    143.0\n",
      "Name: DEP_DELAY, Length: 65149, dtype: float64\n"
     ]
    }
   ],
   "source": [
    "print(train_label_reg)"
   ]
  },
  {
   "cell_type": "code",
   "execution_count": 142,
   "metadata": {},
   "outputs": [],
   "source": [
    "X_train_pca_df_with_labels = pd.DataFrame(X_train_pca)\n",
    "X_train_pca_df_with_labels['DEP_DELAY'] = train_label_reg.reset_index().drop('index', axis=1)\n",
    "X_train_pca_df_with_labels['DEP_DEL15'] = train_label_class.reset_index().drop('index', axis=1)\n",
    "X_test_pca_df_with_labels = pd.DataFrame(X_test_pca)\n",
    "X_test_pca_df_with_labels['DEP_DELAY'] = test_label_reg.reset_index().drop('index', axis=1)\n",
    "X_test_pca_df_with_labels['DEP_DEL15'] = test_label_class.reset_index().drop('index', axis=1)\n",
    "\n",
    "pd.DataFrame(X_train_pca_df_with_labels).to_csv('pca_data/AUS_WITH_WEATHER_2022_NUMERIC_X_train_pca.csv', sep=',', encoding='utf-8')\n",
    "pd.DataFrame(X_test_pca_df_with_labels).to_csv('pca_data/AUS_WITH_WEATHER_2022_NUMERIC_X_test_pca.csv', sep=',', encoding='utf-8')"
   ]
  },
  {
   "cell_type": "code",
   "execution_count": null,
   "metadata": {},
   "outputs": [],
   "source": []
  }
 ],
 "metadata": {
  "kernelspec": {
   "display_name": "ECE461P",
   "language": "python",
   "name": "python3"
  },
  "language_info": {
   "codemirror_mode": {
    "name": "ipython",
    "version": 3
   },
   "file_extension": ".py",
   "mimetype": "text/x-python",
   "name": "python",
   "nbconvert_exporter": "python",
   "pygments_lexer": "ipython3",
   "version": "3.10.9"
  },
  "orig_nbformat": 4
 },
 "nbformat": 4,
 "nbformat_minor": 2
}
