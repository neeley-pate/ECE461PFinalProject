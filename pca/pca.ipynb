{
 "cells": [
  {
   "attachments": {},
   "cell_type": "markdown",
   "metadata": {},
   "source": [
    "# Performing Principle Component Analysis"
   ]
  },
  {
   "attachments": {},
   "cell_type": "markdown",
   "metadata": {},
   "source": [
    "### Import data"
   ]
  },
  {
   "cell_type": "code",
   "execution_count": 181,
   "metadata": {},
   "outputs": [],
   "source": [
    "import pandas as pd\n",
    "import numpy as np\n",
    "import matplotlib.pyplot as plt\n",
    "from sklearn.decomposition import PCA\n",
    "from sklearn.preprocessing import StandardScaler\n",
    "from sklearn.model_selection import train_test_split"
   ]
  },
  {
   "cell_type": "code",
   "execution_count": 182,
   "metadata": {},
   "outputs": [],
   "source": [
    "dataset = pd.read_csv('../dataset/dataWithWeather/AUS_WITH_WEATHER_2022.csv', index_col=0)\n"
   ]
  },
  {
   "cell_type": "code",
   "execution_count": 152,
   "metadata": {},
   "outputs": [],
   "source": [
    "# p_type = set()\n",
    "# cond = set()\n",
    "# for idx, row in dataset.iterrows():\n",
    "#     p_type.add(row['preciptype'])\n",
    "#     cond.add(row['conditions'])\n",
    "\n",
    "# print(p_type)\n",
    "# print(cond)"
   ]
  },
  {
   "cell_type": "code",
   "execution_count": 183,
   "metadata": {},
   "outputs": [],
   "source": [
    "p_ice = list()\n",
    "p_rain = list()\n",
    "p_snow = list()\n",
    "p_fzrain = list()\n",
    "\n",
    "c_rain = list()\n",
    "c_snow = list()\n",
    "c_overcast = list()\n",
    "c_partlycloudy = list()\n",
    "c_ice = list()\n",
    "c_fzdrizrain = list()\n",
    "\n",
    "for idx, row in dataset.iterrows():\n",
    "    precp = row['preciptype']\n",
    "    precp_list = precp.split(',')\n",
    "    for i in range(len(precp_list)):\n",
    "        precp_list[i] = precp_list[i].strip()\n",
    "    if ('ice' in precp_list):\n",
    "        p_ice.append(1)\n",
    "    else:\n",
    "        p_ice.append(0)\n",
    "    if ('rain' in precp_list):\n",
    "        p_rain.append(1)\n",
    "    else:\n",
    "        p_rain.append(0)\n",
    "    if ('snow' in precp_list):\n",
    "        p_snow.append(1)\n",
    "    else:    \n",
    "        p_snow.append(0)\n",
    "    if ('freezingrain' in precp_list):\n",
    "        p_fzrain.append(1)\n",
    "    else:\n",
    "        p_fzrain.append(0)\n",
    "    \n",
    "    cond = row['conditions']\n",
    "    cond_list = cond.split(',')\n",
    "    for i in range(len(cond_list)):\n",
    "        cond_list[i] = cond_list[i].strip()\n",
    "    if ('Rain' in cond_list):\n",
    "        c_rain.append(1)\n",
    "    else:\n",
    "        c_rain.append(0)\n",
    "    if ('Snow' in cond_list):\n",
    "        c_snow.append(1)\n",
    "    else:\n",
    "        c_snow.append(0)\n",
    "    if ('Overcast' in cond_list):\n",
    "        c_overcast.append(1)\n",
    "    else:\n",
    "        c_overcast.append(0)\n",
    "    if ('Partially cloudy' in cond_list):\n",
    "        c_partlycloudy.append(1)\n",
    "    else:\n",
    "        c_partlycloudy.append(0)\n",
    "    if ('Ice' in cond_list):\n",
    "        c_ice.append(1)\n",
    "    else:\n",
    "        c_ice.append(0)\n",
    "    if ('Freezing Drizzle/Freezing Rain' in cond_list):\n",
    "        c_fzdrizrain.append(1)\n",
    "    else:\n",
    "        c_fzdrizrain.append(0)\n",
    "    \n",
    "cat_df = pd.DataFrame()\n",
    "cat_df['p_ice'] = p_ice\n",
    "cat_df['p_rain'] = p_rain\n",
    "cat_df['p_snow'] = p_snow\n",
    "cat_df['p_fzrain'] = p_fzrain\n",
    "\n",
    "cat_df['c_rain'] = c_rain\n",
    "cat_df['c_snow'] = c_snow\n",
    "cat_df['c_overcast'] = c_overcast\n",
    "cat_df['c_partlycloudy'] = c_partlycloudy\n",
    "cat_df['c_ice'] = c_ice\n",
    "cat_df['c_fzdrizrain'] = c_fzdrizrain\n",
    "\n",
    "\n"
   ]
  },
  {
   "cell_type": "code",
   "execution_count": 184,
   "metadata": {},
   "outputs": [],
   "source": [
    "concat_df = pd.concat([dataset, cat_df], axis=1)\n",
    "dataset = concat_df.drop(['preciptype', 'conditions'], axis=1)"
   ]
  },
  {
   "cell_type": "code",
   "execution_count": 185,
   "metadata": {},
   "outputs": [],
   "source": [
    "dataset.to_csv('categorical_data/AUS_WITH_WEATHER_2022_categorical.csv', sep=',', encoding='utf-8')"
   ]
  },
  {
   "cell_type": "code",
   "execution_count": 186,
   "metadata": {},
   "outputs": [],
   "source": [
    "cols_to_remove = ['Unnamed: 0', 'DEP_DELAY_GROUP', 'CRS_ARR_TIME', 'ARR_TIME', 'ARR_DELAY', 'ARR_DEL15', 'ARR_DELAY_GROUP', 'NAS_DELAY', 'SECURITY_DELAY','LATE_AIRCRAFT_DELAY', 'WEATHER_DELAY', 'CARRIER_DELAY', 'DEP_TIME', 'ACTUAL_ELAPSED_TIME']\n",
    "# cols_to_remove = ['DEP_DELAY_GROUP', 'CRS_ARR_TIME', 'ARR_TIME', 'ARR_DELAY', 'ARR_DEL15', 'ARR_DELAY_GROUP', 'NAS_DELAY', 'SECURITY_DELAY','LATE_AIRCRAFT_DELAY', 'WEATHER_DELAY', 'CARRIER_DELAY']\n",
    "dataset = dataset.drop(cols_to_remove, axis=1)\n",
    "dataset.to_csv('dropped_data/AUS_WITH_WEATHER_2022__categorical_Dropped.csv', sep=',', encoding='utf-8')"
   ]
  },
  {
   "cell_type": "code",
   "execution_count": 187,
   "metadata": {},
   "outputs": [],
   "source": [
    "train, test = train_test_split(dataset, test_size=0.25, random_state=42)"
   ]
  },
  {
   "cell_type": "code",
   "execution_count": 188,
   "metadata": {},
   "outputs": [
    {
     "name": "stdout",
     "output_type": "stream",
     "text": [
      "Index(['MONTH', 'DAY_OF_MONTH', 'DAY_OF_WEEK', 'MKT_CARRIER_AIRLINE_ID',\n",
      "       'OP_CARRIER_FL_NUM', 'ORIGIN_AIRPORT_SEQ_ID', 'DEST_AIRPORT_SEQ_ID',\n",
      "       'CRS_DEP_TIME', 'DEP_DELAY', 'DEP_DEL15', 'CRS_ELAPSED_TIME',\n",
      "       'DISTANCE', 'DISTANCE_GROUP', 'temp', 'dew', 'humidity', 'precip',\n",
      "       'precipprob', 'snow', 'snowdepth', 'windgust', 'windspeed', 'winddir',\n",
      "       'sealevelpressure', 'cloudcover', 'visibility', 'severerisk', 'p_ice',\n",
      "       'p_rain', 'p_snow', 'p_fzrain', 'c_rain', 'c_snow', 'c_overcast',\n",
      "       'c_partlycloudy', 'c_ice', 'c_fzdrizrain'],\n",
      "      dtype='object')\n"
     ]
    }
   ],
   "source": [
    "print(dataset.columns)"
   ]
  },
  {
   "cell_type": "code",
   "execution_count": 189,
   "metadata": {},
   "outputs": [],
   "source": [
    "train.to_csv('split_data/AUS_WITH_WEATHER_2022__categorical_train.csv', sep=',', encoding='utf-8')\n",
    "test.to_csv('split_data/AUS_WITH_WEATHER_2022__categorical_test.csv', sep=',', encoding='utf-8')"
   ]
  },
  {
   "cell_type": "code",
   "execution_count": 190,
   "metadata": {},
   "outputs": [],
   "source": [
    "train_label_reg = train['DEP_DELAY']\n",
    "train_label_class = train['DEP_DEL15']\n",
    "test_label_reg = test['DEP_DELAY']\n",
    "test_label_class = test['DEP_DEL15']\n",
    "\n",
    "train_data = train.drop(['DEP_DELAY', 'DEP_DEL15'], axis=1)\n",
    "test_data = test.drop(['DEP_DELAY', 'DEP_DEL15'], axis=1)"
   ]
  },
  {
   "cell_type": "code",
   "execution_count": 191,
   "metadata": {},
   "outputs": [
    {
     "name": "stdout",
     "output_type": "stream",
     "text": [
      "Index(['MONTH', 'DAY_OF_MONTH', 'DAY_OF_WEEK', 'MKT_CARRIER_AIRLINE_ID',\n",
      "       'OP_CARRIER_FL_NUM', 'ORIGIN_AIRPORT_SEQ_ID', 'DEST_AIRPORT_SEQ_ID',\n",
      "       'CRS_DEP_TIME', 'CRS_ELAPSED_TIME', 'DISTANCE', 'DISTANCE_GROUP',\n",
      "       'temp', 'dew', 'humidity', 'precip', 'precipprob', 'snow', 'snowdepth',\n",
      "       'windgust', 'windspeed', 'winddir', 'sealevelpressure', 'cloudcover',\n",
      "       'visibility', 'severerisk', 'p_ice', 'p_rain', 'p_snow', 'p_fzrain',\n",
      "       'c_rain', 'c_snow', 'c_overcast', 'c_partlycloudy', 'c_ice',\n",
      "       'c_fzdrizrain'],\n",
      "      dtype='object')\n"
     ]
    }
   ],
   "source": [
    "print(train_data.columns)"
   ]
  },
  {
   "cell_type": "code",
   "execution_count": 192,
   "metadata": {},
   "outputs": [],
   "source": [
    "scale = StandardScaler()\n",
    "scaled_data_train = scale.fit_transform(train_data)\n",
    "scaled_data_test = scale.transform(test_data)"
   ]
  },
  {
   "cell_type": "code",
   "execution_count": 193,
   "metadata": {},
   "outputs": [
    {
     "name": "stdout",
     "output_type": "stream",
     "text": [
      "<class 'numpy.ndarray'>\n"
     ]
    }
   ],
   "source": [
    "print(type(scaled_data_train))"
   ]
  },
  {
   "attachments": {},
   "cell_type": "markdown",
   "metadata": {},
   "source": [
    "### Perform PCA"
   ]
  },
  {
   "cell_type": "code",
   "execution_count": 194,
   "metadata": {},
   "outputs": [],
   "source": [
    "pca = PCA()\n",
    "X_train_pca = pca.fit_transform(scaled_data_train)\n",
    "X_test_pca = pca.transform(scaled_data_test)"
   ]
  },
  {
   "cell_type": "code",
   "execution_count": 195,
   "metadata": {},
   "outputs": [],
   "source": [
    "explained_variance = pca.explained_variance_ratio_"
   ]
  },
  {
   "cell_type": "code",
   "execution_count": 196,
   "metadata": {},
   "outputs": [
    {
     "name": "stdout",
     "output_type": "stream",
     "text": [
      "[1.24251901e-01 9.64393006e-02 9.07057420e-02 7.50004892e-02\n",
      " 6.00534237e-02 5.64829241e-02 4.86241421e-02 3.53083100e-02\n",
      " 3.39309904e-02 3.32793925e-02 3.11903269e-02 3.00271870e-02\n",
      " 2.93779753e-02 2.69931123e-02 2.67649048e-02 2.58019942e-02\n",
      " 2.33466064e-02 2.25097572e-02 2.15080853e-02 2.06404275e-02\n",
      " 1.92283903e-02 1.79805723e-02 1.59558851e-02 1.13495975e-02\n",
      " 7.30346557e-03 7.03639144e-03 4.42119284e-03 2.85777355e-03\n",
      " 1.07186008e-03 3.41376209e-04 2.16502720e-04 2.45043668e-32\n",
      " 7.11127088e-34 5.71377644e-34 5.71377644e-34]\n"
     ]
    }
   ],
   "source": [
    "print(explained_variance)"
   ]
  },
  {
   "cell_type": "code",
   "execution_count": 198,
   "metadata": {},
   "outputs": [
    {
     "data": {
      "image/png": "[encoded data removed]",
      "text/plain": [
       "<Figure size 1000x600 with 1 Axes>"
      ]
     },
     "metadata": {},
     "output_type": "display_data"
    }
   ],
   "source": [
    "# plot the variance as a function of the number of principal components\n",
    "plt.figure(figsize=(10, 6))\n",
    "plt.bar(range(1, 36), explained_variance, alpha=0.5, align='center', label='individual explained variance')\n",
    "plt.ylabel('Explained variance ratio')\n",
    "plt.xlabel('Principal components')\n",
    "plt.legend(loc='best')\n",
    "plt.tight_layout()\n",
    "plt.savefig('explained_variance/AUS_WITH_WEATHER_2022_categorical_pca_variance.png')\n",
    "plt.show()"
   ]
  },
  {
   "cell_type": "code",
   "execution_count": 100,
   "metadata": {},
   "outputs": [],
   "source": [
    "# X_train_pca_with_labels = np.column_stack((X_train_pca, train_label_reg, train_label_class))\n",
    "# X_test_pca_with_labels = np.column_stack((X_test_pca, test_label_reg, test_label_class))\n",
    "\n",
    "# pd.DataFrame(X_train_pca_with_labels).to_csv('pca_data/AUS_WITH_WEATHER_2022_Categorical_X_train_pca.csv', sep=',', encoding='utf-8')\n",
    "# pd.DataFrame(X_test_pca_with_labels).to_csv('pca_data/AUS_WITH_WEATHER_2022_Categorical_X_test_pca.csv', sep=',', encoding='utf-8')"
   ]
  },
  {
   "cell_type": "code",
   "execution_count": 141,
   "metadata": {},
   "outputs": [
    {
     "name": "stdout",
     "output_type": "stream",
     "text": [
      "58156     43.0\n",
      "71253     -6.0\n",
      "26101     -5.0\n",
      "36504     -5.0\n",
      "79040     -1.0\n",
      "         ...  \n",
      "6265      -1.0\n",
      "54886      4.0\n",
      "76820     -3.0\n",
      "860       -5.0\n",
      "15795    143.0\n",
      "Name: DEP_DELAY, Length: 65149, dtype: float64\n"
     ]
    }
   ],
   "source": [
    "print(train_label_reg)"
   ]
  },
  {
   "cell_type": "code",
   "execution_count": 199,
   "metadata": {},
   "outputs": [],
   "source": [
    "X_train_pca_df_with_labels = pd.DataFrame(X_train_pca)\n",
    "X_train_pca_df_with_labels['DEP_DELAY'] = train_label_reg.reset_index().drop('index', axis=1)\n",
    "X_train_pca_df_with_labels['DEP_DEL15'] = train_label_class.reset_index().drop('index', axis=1)\n",
    "X_test_pca_df_with_labels = pd.DataFrame(X_test_pca)\n",
    "X_test_pca_df_with_labels['DEP_DELAY'] = test_label_reg.reset_index().drop('index', axis=1)\n",
    "X_test_pca_df_with_labels['DEP_DEL15'] = test_label_class.reset_index().drop('index', axis=1)\n",
    "\n",
    "pd.DataFrame(X_train_pca_df_with_labels).to_csv('pca_data/AUS_WITH_WEATHER_2022_categorical_X_train_pca.csv', sep=',', encoding='utf-8')\n",
    "pd.DataFrame(X_test_pca_df_with_labels).to_csv('pca_data/AUS_WITH_WEATHER_2022_categorical_X_test_pca.csv', sep=',', encoding='utf-8')"
   ]
  },
  {
   "cell_type": "code",
   "execution_count": null,
   "metadata": {},
   "outputs": [],
   "source": []
  }
 ],
 "metadata": {
  "kernelspec": {
   "display_name": "ECE461P",
   "language": "python",
   "name": "python3"
  },
  "language_info": {
   "codemirror_mode": {
    "name": "ipython",
    "version": 3
   },
   "file_extension": ".py",
   "mimetype": "text/x-python",
   "name": "python",
   "nbconvert_exporter": "python",
   "pygments_lexer": "ipython3",
   "version": "3.10.9"
  },
  "orig_nbformat": 4
 },
 "nbformat": 4,
 "nbformat_minor": 2
}
